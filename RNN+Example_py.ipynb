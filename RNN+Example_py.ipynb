{
  "nbformat": 4,
  "nbformat_minor": 0,
  "metadata": {
    "colab": {
      "provenance": [],
      "include_colab_link": true
    },
    "kernelspec": {
      "name": "python3",
      "display_name": "Python 3"
    },
    "language_info": {
      "name": "python"
    },
    "accelerator": "GPU",
    "gpuClass": "standard"
  },
  "cells": [
    {
      "cell_type": "markdown",
      "metadata": {
        "id": "view-in-github",
        "colab_type": "text"
      },
      "source": [
        "<a href=\"https://colab.research.google.com/github/YushiIshihara/DeepLearning2022/blob/main/RNN%2BExample_py.ipynb\" target=\"_parent\"><img src=\"https://colab.research.google.com/assets/colab-badge.svg\" alt=\"Open In Colab\"/></a>"
      ]
    },
    {
      "cell_type": "markdown",
      "source": [
        "# LSTMを使ったRNNを実装する"
      ],
      "metadata": {
        "id": "_FU920xYImDJ"
      }
    },
    {
      "cell_type": "markdown",
      "source": [
        "## ライブラリのimport"
      ],
      "metadata": {
        "id": "tU_nnDq9I0tC"
      }
    },
    {
      "cell_type": "code",
      "execution_count": 20,
      "metadata": {
        "id": "fl2gwECPIP_a"
      },
      "outputs": [],
      "source": [
        "from keras.models import Sequential, Model\n",
        "from keras.layers import Input, Embedding, LSTM, Dense"
      ]
    },
    {
      "cell_type": "code",
      "source": [
        "# from keras.layers.wrappers import TimeDistributed\n",
        "from tensorflow.keras.layers import TimeDistributed"
      ],
      "metadata": {
        "id": "-bIWdXfzJOzc"
      },
      "execution_count": 21,
      "outputs": []
    },
    {
      "cell_type": "markdown",
      "source": [
        "# データセット(imdb)の読み込み"
      ],
      "metadata": {
        "id": "Vk1GHU5HKvwh"
      }
    },
    {
      "cell_type": "code",
      "source": [
        "from keras.datasets import imdb"
      ],
      "metadata": {
        "id": "JAuotsGCKhbZ"
      },
      "execution_count": 22,
      "outputs": []
    },
    {
      "cell_type": "markdown",
      "source": [
        "### SVGの表示に必要なライブラリのimport"
      ],
      "metadata": {
        "id": "dWizRAGQLQyh"
      }
    },
    {
      "cell_type": "code",
      "source": [
        "from IPython.display import SVG\n",
        "from keras.utils.vis_utils import model_to_dot"
      ],
      "metadata": {
        "id": "OJM9TKcrLQON"
      },
      "execution_count": 23,
      "outputs": []
    },
    {
      "cell_type": "markdown",
      "source": [
        "### Numpyなどのツールの読み込み"
      ],
      "metadata": {
        "id": "ae2PVG73L3Xy"
      }
    },
    {
      "cell_type": "code",
      "source": [
        "import numpy as np\n",
        "from keras.utils import to_categorical, np_utils"
      ],
      "metadata": {
        "id": "Pk2AsGBQL1xb"
      },
      "execution_count": 24,
      "outputs": []
    },
    {
      "cell_type": "markdown",
      "source": [
        "### データ数、バッチ数など、各種定数を定義する"
      ],
      "metadata": {
        "id": "pp3YQe6sMtUl"
      }
    },
    {
      "cell_type": "code",
      "source": [
        "train_reviews = 5000\n",
        "valid_reviews = 100\n",
        "max_features = 5000\n",
        "embedding_size = 256\n",
        "step_size = 5\n",
        "batch_size = 32\n",
        "index_from = 2\n",
        "rnn_units = 128\n",
        "epochs = 2\n",
        "word_index_prev = {'<PAD>':0, '<START>':1, '<UNK>':2}"
      ],
      "metadata": {
        "id": "r45oMhoXMF7y"
      },
      "execution_count": 25,
      "outputs": []
    },
    {
      "cell_type": "markdown",
      "source": [
        "## IMDBデータセットを読み込む"
      ],
      "metadata": {
        "id": "FKvnIw5wN_qb"
      }
    },
    {
      "cell_type": "code",
      "source": [
        "(x_train, y_train), (x_test, y_test) = imdb.load_data(num_words=max_features, index_from=index_from)"
      ],
      "metadata": {
        "id": "7L_2msklN_E-"
      },
      "execution_count": 26,
      "outputs": []
    },
    {
      "cell_type": "markdown",
      "source": [
        "### 読み込んだデータを加工する(単語に関する情報を抜き出す)"
      ],
      "metadata": {
        "id": "xKYh0RN4P-p-"
      }
    },
    {
      "cell_type": "code",
      "source": [
        "word_index = {word:(index+index_from)\n",
        "for word, index in imdb.get_word_index().items() if (index + index_from) < max_features}\n",
        "word_index.update(word_index_prev)"
      ],
      "metadata": {
        "id": "3VoExZAAOwPA"
      },
      "execution_count": 27,
      "outputs": []
    },
    {
      "cell_type": "markdown",
      "source": [
        "### 加工した単語情報から辞書を作成する"
      ],
      "metadata": {
        "id": "H4MqSRuFSqsr"
      }
    },
    {
      "cell_type": "code",
      "source": [
        "index_word = {index: word for word, index in word_index.items()}"
      ],
      "metadata": {
        "id": "C44o3FpNSxBs"
      },
      "execution_count": 28,
      "outputs": []
    },
    {
      "cell_type": "markdown",
      "source": [
        "## 文章を表示する関数を定義する"
      ],
      "metadata": {
        "id": "qTV_xKUcSi9K"
      }
    },
    {
      "cell_type": "code",
      "source": [
        "def print_sentence(sentence):\n",
        "  for index in sentence:\n",
        "    print(index_word[index], end=\" \")\n",
        "  # ループ終わり\n",
        "  print()\n",
        "# 関数定義終わり"
      ],
      "metadata": {
        "id": "bsF-C1OSQq57"
      },
      "execution_count": 29,
      "outputs": []
    },
    {
      "cell_type": "markdown",
      "source": [
        "### 定義した関数print_sentenceで学習用データの1行目を表示してみる"
      ],
      "metadata": {
        "id": "HJ53-j2WTNvt"
      }
    },
    {
      "cell_type": "code",
      "source": [
        "print_sentence(x_train[0])"
      ],
      "metadata": {
        "colab": {
          "base_uri": "https://localhost:8080/"
        },
        "id": "scveReC0TMw2",
        "outputId": "4d36d89a-45ea-4fe6-841e-19737efa27c7"
      },
      "execution_count": 30,
      "outputs": [
        {
          "output_type": "stream",
          "name": "stdout",
          "text": [
            "<START> this film was just brilliant casting location scenery story direction everyone's really suited the part they played and you could just imagine being there robert <UNK> is an amazing actor and now the same being director <UNK> father came from the same scottish island as myself so i loved the fact there was a real connection with this film the witty remarks throughout the film were great it was just brilliant so much that i bought the film as soon as it was released for <UNK> and would recommend it to everyone to watch and the fly <UNK> was amazing really cried at the end it was so sad and you know what they say if you cry at a film it must have been good and this definitely was also <UNK> to the two little <UNK> that played the <UNK> of norman and paul they were just brilliant children are often left out of the <UNK> list i think because the stars that play them all grown up are such a big <UNK> for the whole film but these children are amazing and should be <UNK> for what they have done don't you think the whole story was so lovely because it was true and was someone's life after all that was <UNK> with us all \n"
          ]
        }
      ]
    },
    {
      "cell_type": "markdown",
      "source": [
        "## 学習用のtrainデータを学習用とバリデーション検証用に分ける"
      ],
      "metadata": {
        "id": "6q8_4uP1UFqG"
      }
    },
    {
      "cell_type": "code",
      "source": [
        "# train_reviews = 5000\n",
        "# valid_reviews = 100 にわける\n",
        "# 学習用 5000件\n",
        "data_train = [t for s in x_train[:train_reviews] for t in s]\n",
        "# バリデーション用 100\n",
        "data_valid = [t for s in x_train[train_reviews:train_reviews+valid_reviews] for t in s]"
      ],
      "metadata": {
        "id": "vWac8NsUUB2j"
      },
      "execution_count": 31,
      "outputs": []
    },
    {
      "cell_type": "markdown",
      "source": [
        "## バッチ処理のための関数を定義する"
      ],
      "metadata": {
        "id": "10wcUmIZWPzi"
      }
    },
    {
      "cell_type": "code",
      "source": [
        "def batch_generator(data, batcf_size, step_size):\n",
        "  seg_len = len(data) // batch_size\n",
        "  steps_per_epoch = seg_len // step_size\n",
        "  data_seg_list = np.asarray([data[int(i*seg_len):int((i+1)*seg_len)]\n",
        "                              for i in range(batch_size)])\n",
        "  i = 0\n",
        "  while True:\n",
        "    x = data_seg_list[:, int(i*step_size):int((i+1)*step_size)]\n",
        "    y = np.asarray([to_categorical(\n",
        "    data_seg_list[j, int(i*step_size+1):int((i+1)*step_size+1)],max_features)\n",
        "    for j in range(batch_size)])\n",
        "    yield x, y\n",
        "    i += 1\n",
        "    if i >= steps_per_epoch:\n",
        "      i=0\n",
        "    # if文終わり\n",
        "  # while文終わり\n",
        "# 関数def終わり"
      ],
      "metadata": {
        "id": "ebRs-uOfVu4a"
      },
      "execution_count": 32,
      "outputs": []
    },
    {
      "cell_type": "markdown",
      "source": [
        "## 学習モデルを組み立てる"
      ],
      "metadata": {
        "id": "0vqxcTsGgrAs"
      }
    },
    {
      "cell_type": "code",
      "source": [
        "w = Input(shape=(step_size,), name='Input') # 入力層\n",
        "x = Embedding(input_dim=max_features, output_dim=embedding_size, name='Enbedding')(w)\n",
        "y = LSTM(units=rnn_units, return_sequences=True, dropout=0.5,recurrent_dropout=0.5, name='LSTM')(x)\n",
        "w_next = TimeDistributed(Dense(units=max_features, activation='softmax', name='Dense'),name='TimeDistributed')(y)\n",
        "# モデルのインスタンスを生成\n",
        "model = Model(inputs=[w], outputs=[w_next])"
      ],
      "metadata": {
        "colab": {
          "base_uri": "https://localhost:8080/"
        },
        "id": "e67Mrn7rgakA",
        "outputId": "2995acac-57b1-44df-d1cf-7296b12c303b"
      },
      "execution_count": 33,
      "outputs": [
        {
          "output_type": "stream",
          "name": "stderr",
          "text": [
            "WARNING:tensorflow:Layer LSTM will not use cuDNN kernels since it doesn't meet the criteria. It will use a generic GPU kernel as fallback when running on GPU.\n"
          ]
        }
      ]
    },
    {
      "cell_type": "markdown",
      "source": [
        "### 生成したモデルオブジェクトの形をSVGで表示"
      ],
      "metadata": {
        "id": "EZu49hr-j07v"
      }
    },
    {
      "cell_type": "code",
      "source": [
        "SVG(model_to_dot(model, show_shapes=True, dpi=None).create(prog='dot',format='svg'))"
      ],
      "metadata": {
        "colab": {
          "base_uri": "https://localhost:8080/",
          "height": 427
        },
        "id": "vgggxr98iywX",
        "outputId": "10b9d099-a0bb-46d8-c8bd-b73d098d85f2"
      },
      "execution_count": 34,
      "outputs": [
        {
          "output_type": "execute_result",
          "data": {
            "text/plain": [
              "<IPython.core.display.SVG object>"
            ],
            "image/svg+xml": "<svg xmlns=\"http://www.w3.org/2000/svg\" xmlns:xlink=\"http://www.w3.org/1999/xlink\" width=\"339pt\" height=\"304pt\" viewBox=\"0.00 0.00 339.00 304.00\">\n<g id=\"graph0\" class=\"graph\" transform=\"scale(1 1) rotate(0) translate(4 300)\">\n<title>G</title>\n<polygon fill=\"white\" stroke=\"transparent\" points=\"-4,4 -4,-300 335,-300 335,4 -4,4\"/>\n<!-- dpi -->\n<g id=\"node1\" class=\"node\">\n<title>dpi</title>\n<ellipse fill=\"none\" stroke=\"black\" cx=\"27\" cy=\"-272.5\" rx=\"27\" ry=\"18\"/>\n<text text-anchor=\"middle\" x=\"27\" y=\"-268.8\" font-family=\"Times,serif\" font-size=\"14.00\">dpi</text>\n</g>\n<!-- 140242887553616 -->\n<g id=\"node2\" class=\"node\">\n<title>140242887553616</title>\n<polygon fill=\"none\" stroke=\"black\" points=\"72,-249.5 72,-295.5 282,-295.5 282,-249.5 72,-249.5\"/>\n<text text-anchor=\"middle\" x=\"110.5\" y=\"-280.3\" font-family=\"Times,serif\" font-size=\"14.00\">Input</text>\n<polyline fill=\"none\" stroke=\"black\" points=\"72,-272.5 149,-272.5 \"/>\n<text text-anchor=\"middle\" x=\"110.5\" y=\"-257.3\" font-family=\"Times,serif\" font-size=\"14.00\">InputLayer</text>\n<polyline fill=\"none\" stroke=\"black\" points=\"149,-249.5 149,-295.5 \"/>\n<text text-anchor=\"middle\" x=\"176.5\" y=\"-280.3\" font-family=\"Times,serif\" font-size=\"14.00\">input:</text>\n<polyline fill=\"none\" stroke=\"black\" points=\"149,-272.5 204,-272.5 \"/>\n<text text-anchor=\"middle\" x=\"176.5\" y=\"-257.3\" font-family=\"Times,serif\" font-size=\"14.00\">output:</text>\n<polyline fill=\"none\" stroke=\"black\" points=\"204,-249.5 204,-295.5 \"/>\n<text text-anchor=\"middle\" x=\"243\" y=\"-280.3\" font-family=\"Times,serif\" font-size=\"14.00\">[(None, 5)]</text>\n<polyline fill=\"none\" stroke=\"black\" points=\"204,-272.5 282,-272.5 \"/>\n<text text-anchor=\"middle\" x=\"243\" y=\"-257.3\" font-family=\"Times,serif\" font-size=\"14.00\">[(None, 5)]</text>\n</g>\n<!-- 140242887554288 -->\n<g id=\"node3\" class=\"node\">\n<title>140242887554288</title>\n<polygon fill=\"none\" stroke=\"black\" points=\"61,-166.5 61,-212.5 293,-212.5 293,-166.5 61,-166.5\"/>\n<text text-anchor=\"middle\" x=\"101\" y=\"-197.3\" font-family=\"Times,serif\" font-size=\"14.00\">Enbedding</text>\n<polyline fill=\"none\" stroke=\"black\" points=\"61,-189.5 141,-189.5 \"/>\n<text text-anchor=\"middle\" x=\"101\" y=\"-174.3\" font-family=\"Times,serif\" font-size=\"14.00\">Embedding</text>\n<polyline fill=\"none\" stroke=\"black\" points=\"141,-166.5 141,-212.5 \"/>\n<text text-anchor=\"middle\" x=\"168.5\" y=\"-197.3\" font-family=\"Times,serif\" font-size=\"14.00\">input:</text>\n<polyline fill=\"none\" stroke=\"black\" points=\"141,-189.5 196,-189.5 \"/>\n<text text-anchor=\"middle\" x=\"168.5\" y=\"-174.3\" font-family=\"Times,serif\" font-size=\"14.00\">output:</text>\n<polyline fill=\"none\" stroke=\"black\" points=\"196,-166.5 196,-212.5 \"/>\n<text text-anchor=\"middle\" x=\"244.5\" y=\"-197.3\" font-family=\"Times,serif\" font-size=\"14.00\">(None, 5)</text>\n<polyline fill=\"none\" stroke=\"black\" points=\"196,-189.5 293,-189.5 \"/>\n<text text-anchor=\"middle\" x=\"244.5\" y=\"-174.3\" font-family=\"Times,serif\" font-size=\"14.00\">(None, 5, 256)</text>\n</g>\n<!-- 140242887553616&#45;&gt;140242887554288 -->\n<g id=\"edge1\" class=\"edge\">\n<title>140242887553616-&gt;140242887554288</title>\n<path fill=\"none\" stroke=\"black\" d=\"M177,-249.37C177,-241.15 177,-231.66 177,-222.73\"/>\n<polygon fill=\"black\" stroke=\"black\" points=\"180.5,-222.61 177,-212.61 173.5,-222.61 180.5,-222.61\"/>\n</g>\n<!-- 140242886452992 -->\n<g id=\"node4\" class=\"node\">\n<title>140242886452992</title>\n<polygon fill=\"none\" stroke=\"black\" points=\"74.5,-83.5 74.5,-129.5 279.5,-129.5 279.5,-83.5 74.5,-83.5\"/>\n<text text-anchor=\"middle\" x=\"101\" y=\"-114.3\" font-family=\"Times,serif\" font-size=\"14.00\">LSTM</text>\n<polyline fill=\"none\" stroke=\"black\" points=\"74.5,-106.5 127.5,-106.5 \"/>\n<text text-anchor=\"middle\" x=\"101\" y=\"-91.3\" font-family=\"Times,serif\" font-size=\"14.00\">LSTM</text>\n<polyline fill=\"none\" stroke=\"black\" points=\"127.5,-83.5 127.5,-129.5 \"/>\n<text text-anchor=\"middle\" x=\"155\" y=\"-114.3\" font-family=\"Times,serif\" font-size=\"14.00\">input:</text>\n<polyline fill=\"none\" stroke=\"black\" points=\"127.5,-106.5 182.5,-106.5 \"/>\n<text text-anchor=\"middle\" x=\"155\" y=\"-91.3\" font-family=\"Times,serif\" font-size=\"14.00\">output:</text>\n<polyline fill=\"none\" stroke=\"black\" points=\"182.5,-83.5 182.5,-129.5 \"/>\n<text text-anchor=\"middle\" x=\"231\" y=\"-114.3\" font-family=\"Times,serif\" font-size=\"14.00\">(None, 5, 256)</text>\n<polyline fill=\"none\" stroke=\"black\" points=\"182.5,-106.5 279.5,-106.5 \"/>\n<text text-anchor=\"middle\" x=\"231\" y=\"-91.3\" font-family=\"Times,serif\" font-size=\"14.00\">(None, 5, 128)</text>\n</g>\n<!-- 140242887554288&#45;&gt;140242886452992 -->\n<g id=\"edge2\" class=\"edge\">\n<title>140242887554288-&gt;140242886452992</title>\n<path fill=\"none\" stroke=\"black\" d=\"M177,-166.37C177,-158.15 177,-148.66 177,-139.73\"/>\n<polygon fill=\"black\" stroke=\"black\" points=\"180.5,-139.61 177,-129.61 173.5,-139.61 180.5,-139.61\"/>\n</g>\n<!-- 140243067443520 -->\n<g id=\"node5\" class=\"node\">\n<title>140243067443520</title>\n<polygon fill=\"none\" stroke=\"black\" points=\"23,-0.5 23,-46.5 331,-46.5 331,-0.5 23,-0.5\"/>\n<text text-anchor=\"middle\" x=\"97.5\" y=\"-31.3\" font-family=\"Times,serif\" font-size=\"14.00\">TimeDistributed(Dense)</text>\n<polyline fill=\"none\" stroke=\"black\" points=\"23,-23.5 172,-23.5 \"/>\n<text text-anchor=\"middle\" x=\"97.5\" y=\"-8.3\" font-family=\"Times,serif\" font-size=\"14.00\">TimeDistributed(Dense)</text>\n<polyline fill=\"none\" stroke=\"black\" points=\"172,-0.5 172,-46.5 \"/>\n<text text-anchor=\"middle\" x=\"199.5\" y=\"-31.3\" font-family=\"Times,serif\" font-size=\"14.00\">input:</text>\n<polyline fill=\"none\" stroke=\"black\" points=\"172,-23.5 227,-23.5 \"/>\n<text text-anchor=\"middle\" x=\"199.5\" y=\"-8.3\" font-family=\"Times,serif\" font-size=\"14.00\">output:</text>\n<polyline fill=\"none\" stroke=\"black\" points=\"227,-0.5 227,-46.5 \"/>\n<text text-anchor=\"middle\" x=\"279\" y=\"-31.3\" font-family=\"Times,serif\" font-size=\"14.00\">(None, 5, 128)</text>\n<polyline fill=\"none\" stroke=\"black\" points=\"227,-23.5 331,-23.5 \"/>\n<text text-anchor=\"middle\" x=\"279\" y=\"-8.3\" font-family=\"Times,serif\" font-size=\"14.00\">(None, 5, 5000)</text>\n</g>\n<!-- 140242886452992&#45;&gt;140243067443520 -->\n<g id=\"edge3\" class=\"edge\">\n<title>140242886452992-&gt;140243067443520</title>\n<path fill=\"none\" stroke=\"black\" d=\"M177,-83.37C177,-75.15 177,-65.66 177,-56.73\"/>\n<polygon fill=\"black\" stroke=\"black\" points=\"180.5,-56.61 177,-46.61 173.5,-56.61 180.5,-56.61\"/>\n</g>\n</g>\n</svg>"
          },
          "metadata": {},
          "execution_count": 34
        }
      ]
    },
    {
      "cell_type": "markdown",
      "source": [
        "### モデルのコンパイル"
      ],
      "metadata": {
        "id": "CS47NLFolN_i"
      }
    },
    {
      "cell_type": "code",
      "source": [
        "model.compile(optimizer='rmsprop', loss='categorical_crossentropy', metrics=['accuracy'])"
      ],
      "metadata": {
        "id": "Z-mPVvefk-cY"
      },
      "execution_count": 35,
      "outputs": []
    },
    {
      "cell_type": "markdown",
      "source": [
        "## 生成したモデルに学習させる(バッチごとに)"
      ],
      "metadata": {
        "id": "nhBfSVUwmdeW"
      }
    },
    {
      "cell_type": "code",
      "source": [
        "# バッチ処理用にデータセットを加工\n",
        "gen_train = batch_generator(data_train, batch_size, step_size)\n",
        "gen_valid = batch_generator(data_valid, batch_size, step_size)"
      ],
      "metadata": {
        "id": "ohQyQo75loPE"
      },
      "execution_count": 36,
      "outputs": []
    },
    {
      "cell_type": "code",
      "source": [
        "# 各データのバッチごとのステップ数を学習時に指定するために算出\n",
        "steps_per_epoch_train = len(data_train) / batch_size / step_size\n",
        "steps_per_epoch_valid = len(data_valid) / batch_size / step_size"
      ],
      "metadata": {
        "id": "4_8U16g_ns7h"
      },
      "execution_count": 37,
      "outputs": []
    },
    {
      "cell_type": "code",
      "source": [
        "# バッチ処理ごとにデータを学習とバリデーションする\n",
        "model.fit_generator(generator=gen_train, steps_per_epoch=steps_per_epoch_train,\n",
        "                    epochs=epochs,\n",
        "                    validation_data=gen_valid, validation_steps=steps_per_epoch_valid)"
      ],
      "metadata": {
        "colab": {
          "base_uri": "https://localhost:8080/"
        },
        "id": "kJJWCXZ_oMhq",
        "outputId": "1c280379-0abe-4bbc-cc89-a647047f15f6"
      },
      "execution_count": 38,
      "outputs": [
        {
          "output_type": "stream",
          "name": "stdout",
          "text": [
            "Epoch 1/2\n"
          ]
        },
        {
          "output_type": "stream",
          "name": "stderr",
          "text": [
            "<ipython-input-38-b33d12095c70>:2: UserWarning: `Model.fit_generator` is deprecated and will be removed in a future version. Please use `Model.fit`, which supports generators.\n",
            "  model.fit_generator(generator=gen_train, steps_per_epoch=steps_per_epoch_train,\n"
          ]
        },
        {
          "output_type": "stream",
          "name": "stdout",
          "text": [
            "7619/7619 [==============================] - 253s 33ms/step - loss: 5.6107 - accuracy: 0.1467 - val_loss: 5.3846 - val_accuracy: 0.1589\n",
            "Epoch 2/2\n",
            "7619/7619 [==============================] - 249s 33ms/step - loss: 5.4147 - accuracy: 0.1677 - val_loss: 5.4109 - val_accuracy: 0.1681\n"
          ]
        },
        {
          "output_type": "execute_result",
          "data": {
            "text/plain": [
              "<keras.callbacks.History at 0x7f8cd5281790>"
            ]
          },
          "metadata": {},
          "execution_count": 38
        }
      ]
    },
    {
      "cell_type": "markdown",
      "source": [
        "# 学習したモデルを使ってランダムに文章を作らせる"
      ],
      "metadata": {
        "id": "vwQWs_WZsd80"
      }
    },
    {
      "cell_type": "code",
      "source": [
        "# 次に来る単語を選ぶ関数\n",
        "def sample(preds, temperature=1.0):\n",
        "  preds = np.log(preds) / temperature\n",
        "  preds = np.exp(preds) / np.sum(np.exp(preds))\n",
        "  choices = range(len(preds))\n",
        "  return np.random.choice(choices, p=preds)\n",
        "# 関数終わり"
      ],
      "metadata": {
        "id": "0v4cWnkvpl9b"
      },
      "execution_count": 39,
      "outputs": []
    },
    {
      "cell_type": "code",
      "source": [
        "# ランダムに文章を生成する関数\n",
        "def sample_sentences(num_sentences, sample_sent_len = 20):\n",
        "  for x_test_i in x_test[:num_sentences]:\n",
        "    x = np.zeros((1, step_size))\n",
        "    sentence = x_test_i[:step_size]\n",
        "\n",
        "    for i in range(sample_sent_len):\n",
        "      for j, index in enumerate(sentence[-step_size:]):\n",
        "        x[0, j] = index\n",
        "      preds = model.predict(x)[0][-1]\n",
        "      next_index = sample(preds)\n",
        "      sentence.append(next_index)\n",
        "    # ループ終わり\n",
        "  print_sentence(sentence)"
      ],
      "metadata": {
        "id": "DVPd9fqVuLoQ"
      },
      "execution_count": 40,
      "outputs": []
    },
    {
      "cell_type": "code",
      "source": [
        "# ランダムに文章を抽出\n",
        "sample_sentences(num_sentences=20, sample_sent_len=15)"
      ],
      "metadata": {
        "id": "vp1XJ3Vnwdyh",
        "colab": {
          "base_uri": "https://localhost:8080/"
        },
        "outputId": "e25bf20e-acc2-416f-e256-0c7ab8f94248"
      },
      "execution_count": 41,
      "outputs": [
        {
          "output_type": "stream",
          "name": "stdout",
          "text": [
            "1/1 [==============================] - 0s 241ms/step\n",
            "1/1 [==============================] - 0s 19ms/step\n",
            "1/1 [==============================] - 0s 16ms/step\n",
            "1/1 [==============================] - 0s 22ms/step\n",
            "1/1 [==============================] - 0s 16ms/step\n",
            "1/1 [==============================] - 0s 17ms/step\n",
            "1/1 [==============================] - 0s 15ms/step\n",
            "1/1 [==============================] - 0s 16ms/step\n",
            "1/1 [==============================] - 0s 16ms/step\n",
            "1/1 [==============================] - 0s 19ms/step\n",
            "1/1 [==============================] - 0s 18ms/step\n",
            "1/1 [==============================] - 0s 17ms/step\n",
            "1/1 [==============================] - 0s 16ms/step\n",
            "1/1 [==============================] - 0s 19ms/step\n",
            "1/1 [==============================] - 0s 17ms/step\n",
            "1/1 [==============================] - 0s 16ms/step\n",
            "1/1 [==============================] - 0s 16ms/step\n",
            "1/1 [==============================] - 0s 17ms/step\n",
            "1/1 [==============================] - 0s 16ms/step\n",
            "1/1 [==============================] - 0s 16ms/step\n",
            "1/1 [==============================] - 0s 21ms/step\n",
            "1/1 [==============================] - 0s 19ms/step\n",
            "1/1 [==============================] - 0s 17ms/step\n",
            "1/1 [==============================] - 0s 23ms/step\n",
            "1/1 [==============================] - 0s 16ms/step\n",
            "1/1 [==============================] - 0s 16ms/step\n",
            "1/1 [==============================] - 0s 16ms/step\n",
            "1/1 [==============================] - 0s 18ms/step\n",
            "1/1 [==============================] - 0s 17ms/step\n",
            "1/1 [==============================] - 0s 18ms/step\n",
            "1/1 [==============================] - 0s 16ms/step\n",
            "1/1 [==============================] - 0s 17ms/step\n",
            "1/1 [==============================] - 0s 16ms/step\n",
            "1/1 [==============================] - 0s 18ms/step\n",
            "1/1 [==============================] - 0s 19ms/step\n",
            "1/1 [==============================] - 0s 20ms/step\n",
            "1/1 [==============================] - 0s 17ms/step\n",
            "1/1 [==============================] - 0s 17ms/step\n",
            "1/1 [==============================] - 0s 23ms/step\n",
            "1/1 [==============================] - 0s 17ms/step\n",
            "1/1 [==============================] - 0s 19ms/step\n",
            "1/1 [==============================] - 0s 19ms/step\n",
            "1/1 [==============================] - 0s 17ms/step\n",
            "1/1 [==============================] - 0s 27ms/step\n",
            "1/1 [==============================] - 0s 19ms/step\n",
            "1/1 [==============================] - 0s 17ms/step\n",
            "1/1 [==============================] - 0s 16ms/step\n",
            "1/1 [==============================] - 0s 17ms/step\n",
            "1/1 [==============================] - 0s 18ms/step\n",
            "1/1 [==============================] - 0s 17ms/step\n",
            "1/1 [==============================] - 0s 16ms/step\n",
            "1/1 [==============================] - 0s 18ms/step\n",
            "1/1 [==============================] - 0s 18ms/step\n",
            "1/1 [==============================] - 0s 17ms/step\n",
            "1/1 [==============================] - 0s 17ms/step\n",
            "1/1 [==============================] - 0s 16ms/step\n",
            "1/1 [==============================] - 0s 16ms/step\n",
            "1/1 [==============================] - 0s 17ms/step\n",
            "1/1 [==============================] - 0s 21ms/step\n",
            "1/1 [==============================] - 0s 17ms/step\n",
            "1/1 [==============================] - 0s 19ms/step\n",
            "1/1 [==============================] - 0s 17ms/step\n",
            "1/1 [==============================] - 0s 18ms/step\n",
            "1/1 [==============================] - 0s 30ms/step\n",
            "1/1 [==============================] - 0s 17ms/step\n",
            "1/1 [==============================] - 0s 18ms/step\n",
            "1/1 [==============================] - 0s 19ms/step\n",
            "1/1 [==============================] - 0s 18ms/step\n",
            "1/1 [==============================] - 0s 21ms/step\n",
            "1/1 [==============================] - 0s 16ms/step\n",
            "1/1 [==============================] - 0s 20ms/step\n",
            "1/1 [==============================] - 0s 17ms/step\n",
            "1/1 [==============================] - 0s 19ms/step\n",
            "1/1 [==============================] - 0s 20ms/step\n",
            "1/1 [==============================] - 0s 18ms/step\n",
            "1/1 [==============================] - 0s 18ms/step\n",
            "1/1 [==============================] - 0s 17ms/step\n",
            "1/1 [==============================] - 0s 20ms/step\n",
            "1/1 [==============================] - 0s 17ms/step\n",
            "1/1 [==============================] - 0s 20ms/step\n",
            "1/1 [==============================] - 0s 16ms/step\n",
            "1/1 [==============================] - 0s 17ms/step\n",
            "1/1 [==============================] - 0s 17ms/step\n",
            "1/1 [==============================] - 0s 23ms/step\n",
            "1/1 [==============================] - 0s 17ms/step\n",
            "1/1 [==============================] - 0s 16ms/step\n",
            "1/1 [==============================] - 0s 17ms/step\n",
            "1/1 [==============================] - 0s 17ms/step\n",
            "1/1 [==============================] - 0s 20ms/step\n",
            "1/1 [==============================] - 0s 18ms/step\n",
            "1/1 [==============================] - 0s 17ms/step\n",
            "1/1 [==============================] - 0s 19ms/step\n",
            "1/1 [==============================] - 0s 17ms/step\n",
            "1/1 [==============================] - 0s 17ms/step\n",
            "1/1 [==============================] - 0s 17ms/step\n",
            "1/1 [==============================] - 0s 16ms/step\n",
            "1/1 [==============================] - 0s 16ms/step\n",
            "1/1 [==============================] - 0s 16ms/step\n",
            "1/1 [==============================] - 0s 18ms/step\n",
            "1/1 [==============================] - 0s 19ms/step\n",
            "1/1 [==============================] - 0s 19ms/step\n",
            "1/1 [==============================] - 0s 19ms/step\n",
            "1/1 [==============================] - 0s 17ms/step\n",
            "1/1 [==============================] - 0s 27ms/step\n",
            "1/1 [==============================] - 0s 20ms/step\n",
            "1/1 [==============================] - 0s 19ms/step\n",
            "1/1 [==============================] - 0s 18ms/step\n",
            "1/1 [==============================] - 0s 18ms/step\n",
            "1/1 [==============================] - 0s 19ms/step\n",
            "1/1 [==============================] - 0s 17ms/step\n",
            "1/1 [==============================] - 0s 16ms/step\n",
            "1/1 [==============================] - 0s 19ms/step\n",
            "1/1 [==============================] - 0s 19ms/step\n",
            "1/1 [==============================] - 0s 18ms/step\n",
            "1/1 [==============================] - 0s 19ms/step\n",
            "1/1 [==============================] - 0s 19ms/step\n",
            "1/1 [==============================] - 0s 18ms/step\n",
            "1/1 [==============================] - 0s 18ms/step\n",
            "1/1 [==============================] - 0s 16ms/step\n",
            "1/1 [==============================] - 0s 16ms/step\n",
            "1/1 [==============================] - 0s 16ms/step\n",
            "1/1 [==============================] - 0s 15ms/step\n",
            "1/1 [==============================] - 0s 16ms/step\n",
            "1/1 [==============================] - 0s 24ms/step\n",
            "1/1 [==============================] - 0s 19ms/step\n",
            "1/1 [==============================] - 0s 18ms/step\n",
            "1/1 [==============================] - 0s 18ms/step\n",
            "1/1 [==============================] - 0s 19ms/step\n",
            "1/1 [==============================] - 0s 20ms/step\n",
            "1/1 [==============================] - 0s 19ms/step\n",
            "1/1 [==============================] - 0s 17ms/step\n",
            "1/1 [==============================] - 0s 19ms/step\n",
            "1/1 [==============================] - 0s 17ms/step\n",
            "1/1 [==============================] - 0s 27ms/step\n",
            "1/1 [==============================] - 0s 17ms/step\n",
            "1/1 [==============================] - 0s 17ms/step\n",
            "1/1 [==============================] - 0s 25ms/step\n",
            "1/1 [==============================] - 0s 18ms/step\n",
            "1/1 [==============================] - 0s 20ms/step\n",
            "1/1 [==============================] - 0s 18ms/step\n",
            "1/1 [==============================] - 0s 19ms/step\n",
            "1/1 [==============================] - 0s 21ms/step\n",
            "1/1 [==============================] - 0s 19ms/step\n",
            "1/1 [==============================] - 0s 18ms/step\n",
            "1/1 [==============================] - 0s 20ms/step\n",
            "1/1 [==============================] - 0s 19ms/step\n",
            "1/1 [==============================] - 0s 18ms/step\n",
            "1/1 [==============================] - 0s 20ms/step\n",
            "1/1 [==============================] - 0s 16ms/step\n",
            "1/1 [==============================] - 0s 17ms/step\n",
            "1/1 [==============================] - 0s 16ms/step\n",
            "1/1 [==============================] - 0s 17ms/step\n",
            "1/1 [==============================] - 0s 16ms/step\n",
            "1/1 [==============================] - 0s 18ms/step\n",
            "1/1 [==============================] - 0s 20ms/step\n",
            "1/1 [==============================] - 0s 24ms/step\n",
            "1/1 [==============================] - 0s 19ms/step\n",
            "1/1 [==============================] - 0s 19ms/step\n",
            "1/1 [==============================] - 0s 19ms/step\n",
            "1/1 [==============================] - 0s 17ms/step\n",
            "1/1 [==============================] - 0s 21ms/step\n",
            "1/1 [==============================] - 0s 19ms/step\n",
            "1/1 [==============================] - 0s 17ms/step\n",
            "1/1 [==============================] - 0s 19ms/step\n",
            "1/1 [==============================] - 0s 17ms/step\n",
            "1/1 [==============================] - 0s 20ms/step\n",
            "1/1 [==============================] - 0s 19ms/step\n",
            "1/1 [==============================] - 0s 17ms/step\n",
            "1/1 [==============================] - 0s 18ms/step\n",
            "1/1 [==============================] - 0s 19ms/step\n",
            "1/1 [==============================] - 0s 16ms/step\n",
            "1/1 [==============================] - 0s 18ms/step\n",
            "1/1 [==============================] - 0s 16ms/step\n",
            "1/1 [==============================] - 0s 20ms/step\n",
            "1/1 [==============================] - 0s 17ms/step\n",
            "1/1 [==============================] - 0s 19ms/step\n",
            "1/1 [==============================] - 0s 18ms/step\n",
            "1/1 [==============================] - 0s 20ms/step\n",
            "1/1 [==============================] - 0s 19ms/step\n",
            "1/1 [==============================] - 0s 17ms/step\n",
            "1/1 [==============================] - 0s 19ms/step\n",
            "1/1 [==============================] - 0s 23ms/step\n",
            "1/1 [==============================] - 0s 20ms/step\n",
            "1/1 [==============================] - 0s 19ms/step\n",
            "1/1 [==============================] - 0s 18ms/step\n",
            "1/1 [==============================] - 0s 19ms/step\n",
            "1/1 [==============================] - 0s 20ms/step\n",
            "1/1 [==============================] - 0s 22ms/step\n",
            "1/1 [==============================] - 0s 17ms/step\n",
            "1/1 [==============================] - 0s 16ms/step\n",
            "1/1 [==============================] - 0s 18ms/step\n",
            "1/1 [==============================] - 0s 16ms/step\n",
            "1/1 [==============================] - 0s 17ms/step\n",
            "1/1 [==============================] - 0s 17ms/step\n",
            "1/1 [==============================] - 0s 19ms/step\n",
            "1/1 [==============================] - 0s 22ms/step\n",
            "1/1 [==============================] - 0s 18ms/step\n",
            "1/1 [==============================] - 0s 19ms/step\n",
            "1/1 [==============================] - 0s 18ms/step\n",
            "1/1 [==============================] - 0s 17ms/step\n",
            "1/1 [==============================] - 0s 21ms/step\n",
            "1/1 [==============================] - 0s 18ms/step\n",
            "1/1 [==============================] - 0s 18ms/step\n",
            "1/1 [==============================] - 0s 19ms/step\n",
            "1/1 [==============================] - 0s 18ms/step\n",
            "1/1 [==============================] - 0s 20ms/step\n",
            "1/1 [==============================] - 0s 18ms/step\n",
            "1/1 [==============================] - 0s 20ms/step\n",
            "1/1 [==============================] - 0s 17ms/step\n",
            "1/1 [==============================] - 0s 21ms/step\n",
            "1/1 [==============================] - 0s 19ms/step\n",
            "1/1 [==============================] - 0s 17ms/step\n",
            "1/1 [==============================] - 0s 16ms/step\n",
            "1/1 [==============================] - 0s 17ms/step\n",
            "1/1 [==============================] - 0s 22ms/step\n",
            "1/1 [==============================] - 0s 17ms/step\n",
            "1/1 [==============================] - 0s 18ms/step\n",
            "1/1 [==============================] - 0s 18ms/step\n",
            "1/1 [==============================] - 0s 19ms/step\n",
            "1/1 [==============================] - 0s 17ms/step\n",
            "1/1 [==============================] - 0s 17ms/step\n",
            "1/1 [==============================] - 0s 22ms/step\n",
            "1/1 [==============================] - 0s 17ms/step\n",
            "1/1 [==============================] - 0s 16ms/step\n",
            "1/1 [==============================] - 0s 18ms/step\n",
            "1/1 [==============================] - 0s 22ms/step\n",
            "1/1 [==============================] - 0s 19ms/step\n",
            "1/1 [==============================] - 0s 17ms/step\n",
            "1/1 [==============================] - 0s 18ms/step\n",
            "1/1 [==============================] - 0s 22ms/step\n",
            "1/1 [==============================] - 0s 19ms/step\n",
            "1/1 [==============================] - 0s 17ms/step\n",
            "1/1 [==============================] - 0s 16ms/step\n",
            "1/1 [==============================] - 0s 20ms/step\n",
            "1/1 [==============================] - 0s 21ms/step\n",
            "1/1 [==============================] - 0s 17ms/step\n",
            "1/1 [==============================] - 0s 16ms/step\n",
            "1/1 [==============================] - 0s 17ms/step\n",
            "1/1 [==============================] - 0s 17ms/step\n",
            "1/1 [==============================] - 0s 21ms/step\n",
            "1/1 [==============================] - 0s 17ms/step\n",
            "1/1 [==============================] - 0s 19ms/step\n",
            "1/1 [==============================] - 0s 19ms/step\n",
            "1/1 [==============================] - 0s 17ms/step\n",
            "1/1 [==============================] - 0s 19ms/step\n",
            "1/1 [==============================] - 0s 17ms/step\n",
            "1/1 [==============================] - 0s 17ms/step\n",
            "1/1 [==============================] - 0s 18ms/step\n",
            "1/1 [==============================] - 0s 16ms/step\n",
            "1/1 [==============================] - 0s 19ms/step\n",
            "1/1 [==============================] - 0s 19ms/step\n",
            "1/1 [==============================] - 0s 17ms/step\n",
            "1/1 [==============================] - 0s 16ms/step\n",
            "1/1 [==============================] - 0s 18ms/step\n",
            "1/1 [==============================] - 0s 17ms/step\n",
            "1/1 [==============================] - 0s 17ms/step\n",
            "1/1 [==============================] - 0s 19ms/step\n",
            "1/1 [==============================] - 0s 20ms/step\n",
            "1/1 [==============================] - 0s 18ms/step\n",
            "1/1 [==============================] - 0s 19ms/step\n",
            "1/1 [==============================] - 0s 23ms/step\n",
            "1/1 [==============================] - 0s 20ms/step\n",
            "1/1 [==============================] - 0s 17ms/step\n",
            "1/1 [==============================] - 0s 17ms/step\n",
            "1/1 [==============================] - 0s 17ms/step\n",
            "1/1 [==============================] - 0s 19ms/step\n",
            "1/1 [==============================] - 0s 19ms/step\n",
            "1/1 [==============================] - 0s 21ms/step\n",
            "1/1 [==============================] - 0s 18ms/step\n",
            "1/1 [==============================] - 0s 17ms/step\n",
            "1/1 [==============================] - 0s 19ms/step\n",
            "1/1 [==============================] - 0s 19ms/step\n",
            "1/1 [==============================] - 0s 18ms/step\n",
            "1/1 [==============================] - 0s 23ms/step\n",
            "1/1 [==============================] - 0s 20ms/step\n",
            "1/1 [==============================] - 0s 26ms/step\n",
            "1/1 [==============================] - 0s 20ms/step\n",
            "1/1 [==============================] - 0s 22ms/step\n",
            "1/1 [==============================] - 0s 17ms/step\n",
            "1/1 [==============================] - 0s 17ms/step\n",
            "1/1 [==============================] - 0s 17ms/step\n",
            "1/1 [==============================] - 0s 20ms/step\n",
            "1/1 [==============================] - 0s 16ms/step\n",
            "1/1 [==============================] - 0s 18ms/step\n",
            "1/1 [==============================] - 0s 16ms/step\n",
            "1/1 [==============================] - 0s 19ms/step\n",
            "1/1 [==============================] - 0s 18ms/step\n",
            "1/1 [==============================] - 0s 18ms/step\n",
            "1/1 [==============================] - 0s 17ms/step\n",
            "1/1 [==============================] - 0s 17ms/step\n",
            "1/1 [==============================] - 0s 18ms/step\n",
            "1/1 [==============================] - 0s 18ms/step\n",
            "1/1 [==============================] - 0s 17ms/step\n",
            "1/1 [==============================] - 0s 19ms/step\n",
            "1/1 [==============================] - 0s 16ms/step\n",
            "1/1 [==============================] - 0s 17ms/step\n",
            "1/1 [==============================] - 0s 17ms/step\n",
            "1/1 [==============================] - 0s 19ms/step\n",
            "1/1 [==============================] - 0s 21ms/step\n",
            "1/1 [==============================] - 0s 18ms/step\n",
            "<START> right so you have several much wars just maybe bad fun to hold <UNK> that events said that are \n"
          ]
        }
      ]
    },
    {
      "cell_type": "code",
      "source": [],
      "metadata": {
        "id": "_G6G06gFxCru"
      },
      "execution_count": 41,
      "outputs": []
    }
  ]
}