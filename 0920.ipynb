{
  "nbformat": 4,
  "nbformat_minor": 0,
  "metadata": {
    "colab": {
      "provenance": [],
      "authorship_tag": "ABX9TyPKrW0cY0N+h217wlXuOyYl",
      "include_colab_link": true
    },
    "kernelspec": {
      "name": "python3",
      "display_name": "Python 3"
    },
    "language_info": {
      "name": "python"
    }
  },
  "cells": [
    {
      "cell_type": "markdown",
      "metadata": {
        "id": "view-in-github",
        "colab_type": "text"
      },
      "source": [
        "<a href=\"https://colab.research.google.com/github/YushiIshihara/DeepLearning2022/blob/main/0920.ipynb\" target=\"_parent\"><img src=\"https://colab.research.google.com/assets/colab-badge.svg\" alt=\"Open In Colab\"/></a>"
      ]
    },
    {
      "cell_type": "markdown",
      "source": [
        "#python3で関数を定義する\n",
        "##関数定義"
      ],
      "metadata": {
        "id": "Zt0V0UrecQFR"
      }
    },
    {
      "cell_type": "code",
      "source": [
        "#helloという関数を定義する\n",
        "#\"hello, kansuu!\"と画面表示する関数\n",
        "def hello():\n",
        "  print(\"hello,kansuu!\") #インデントされている\n",
        "  #インデントされている命令文などは関数の範囲の中\n",
        "print(\"test message!\")\n",
        "# インデントされていない命令文などは関数の範囲の外"
      ],
      "metadata": {
        "colab": {
          "base_uri": "https://localhost:8080/"
        },
        "id": "gNUz720zcMsi",
        "outputId": "befc6f54-8f86-4ec5-95e6-28e139c89d01"
      },
      "execution_count": null,
      "outputs": [
        {
          "output_type": "stream",
          "name": "stdout",
          "text": [
            "test message!\n"
          ]
        }
      ]
    },
    {
      "cell_type": "markdown",
      "source": [
        "##関数の実行"
      ],
      "metadata": {
        "id": "vWdU7qyUez4L"
      }
    },
    {
      "cell_type": "code",
      "source": [
        "hello()\n",
        "hello()\n"
      ],
      "metadata": {
        "colab": {
          "base_uri": "https://localhost:8080/"
        },
        "id": "www3uRQzcrON",
        "outputId": "5c4d6b82-7d40-43a8-d3be-ab6c150553e7"
      },
      "execution_count": null,
      "outputs": [
        {
          "output_type": "stream",
          "name": "stdout",
          "text": [
            "hello,kansuu!\n",
            "hello,kansuu!\n"
          ]
        }
      ]
    },
    {
      "cell_type": "code",
      "source": [],
      "metadata": {
        "id": "WRMKF7B6e4Rk"
      },
      "execution_count": null,
      "outputs": []
    },
    {
      "cell_type": "markdown",
      "source": [
        "##引数付きの関数を定義する"
      ],
      "metadata": {
        "id": "1lUCOgokfKG1"
      }
    },
    {
      "cell_type": "code",
      "source": [
        "#引数付きの関数hello()を定義\n",
        "def hello(who):\n",
        "  print('hello,' + who + '!')\n",
        "hello('rety')"
      ],
      "metadata": {
        "colab": {
          "base_uri": "https://localhost:8080/"
        },
        "id": "91nXrf4BfTr9",
        "outputId": "f5baa37b-2966-4985-f5ee-8f134d049516"
      },
      "execution_count": null,
      "outputs": [
        {
          "output_type": "stream",
          "name": "stdout",
          "text": [
            "hello,rety!\n"
          ]
        }
      ]
    },
    {
      "cell_type": "markdown",
      "source": [
        "##複数の引数付きの関数を定義"
      ],
      "metadata": {
        "id": "bRiJJgr-gvtL"
      }
    },
    {
      "cell_type": "code",
      "source": [
        "def hello(who,aisatu):\n",
        "  print('hello,' + who + 'さん'+ aisatu)\n",
        "hello(\"鈴木\",\"おはよう\")"
      ],
      "metadata": {
        "colab": {
          "base_uri": "https://localhost:8080/"
        },
        "id": "itXssAoWfy9k",
        "outputId": "e763c1ef-8420-4855-b3bf-016966e2883f"
      },
      "execution_count": null,
      "outputs": [
        {
          "output_type": "stream",
          "name": "stdout",
          "text": [
            "hello,鈴木さんおはよう\n"
          ]
        }
      ]
    },
    {
      "cell_type": "markdown",
      "source": [
        "##関数の戻り値\n"
      ],
      "metadata": {
        "id": "eBLGfVmMiSMz"
      }
    },
    {
      "cell_type": "code",
      "source": [
        "def helloback(who,aisatu):\n",
        "  return who +'さん'+ aisatu\n",
        "\n",
        "#戻り値を変数ｘに代入して表示\n",
        "x = helloback('佐藤','こんにちは')\n",
        "print(x)"
      ],
      "metadata": {
        "colab": {
          "base_uri": "https://localhost:8080/"
        },
        "id": "vxwy8WczhIt1",
        "outputId": "43bf7cb7-66a7-4196-d745-869c9243016d"
      },
      "execution_count": null,
      "outputs": [
        {
          "output_type": "stream",
          "name": "stdout",
          "text": [
            "佐藤さんこんにちは\n"
          ]
        }
      ]
    },
    {
      "cell_type": "markdown",
      "source": [
        "##複数の戻り値を返す関数を定義"
      ],
      "metadata": {
        "id": "dtewTK-1ji1o"
      }
    },
    {
      "cell_type": "code",
      "source": [
        "def keisan(x,y):\n",
        "  #x,y, x+y この３つの値を返す\n",
        "  return x, y, x+y\n",
        "\n",
        "\n",
        "e,f,g = keisan(3,6)\n",
        "print(e,f,g)"
      ],
      "metadata": {
        "colab": {
          "base_uri": "https://localhost:8080/"
        },
        "id": "rzwMF42XjQo5",
        "outputId": "e5bfba37-15e1-4e58-b267-a12e42a457de"
      },
      "execution_count": null,
      "outputs": [
        {
          "output_type": "stream",
          "name": "stdout",
          "text": [
            "3 6 9\n"
          ]
        }
      ]
    },
    {
      "cell_type": "markdown",
      "source": [
        "##その他の文法\n",
        "###分岐(if文)"
      ],
      "metadata": {
        "id": "S-yXsakUl1Zv"
      }
    },
    {
      "cell_type": "code",
      "source": [
        "def over(num, thres):\n",
        "  if num > thres:\n",
        "    print(str(num) +'は'+ str(thres)+'より大きい')\n",
        "  else:\n",
        "    print(str(num) +'は'+ str(thres)+'より小さい')\n",
        "over(333,100)\n",
        "over(-1,10)"
      ],
      "metadata": {
        "colab": {
          "base_uri": "https://localhost:8080/"
        },
        "id": "JTYd5ggQkG1c",
        "outputId": "ae8cf037-8fd1-47ee-f25d-728956778c5a"
      },
      "execution_count": null,
      "outputs": [
        {
          "output_type": "stream",
          "name": "stdout",
          "text": [
            "333は100より大きい\n",
            "-1は10より小さい\n"
          ]
        }
      ]
    },
    {
      "cell_type": "code",
      "source": [
        "#リストに第２引数の値が含まれるか判定\n",
        "\n",
        "def include(list,keyword):\n",
        "  uniq = set(list)\n",
        "  if keyword in uniq:\n",
        "    print(keyword + \"が含まれる\")\n",
        "  else:\n",
        "    print(keyword + \"が含まれない\")\n",
        "\n",
        "#リストを引き渡して作成した関数を実行する\n",
        "list_1 = ['アップル','ペン','ペン','パイナップル']\n",
        "include(list_1,'パイナップル')\n",
        "include(list_1,'バナナ')"
      ],
      "metadata": {
        "colab": {
          "base_uri": "https://localhost:8080/"
        },
        "id": "xgpbXr0Fts4S",
        "outputId": "5845c7a5-d46d-423c-b215-f9e3917fcc5b"
      },
      "execution_count": null,
      "outputs": [
        {
          "output_type": "stream",
          "name": "stdout",
          "text": [
            "パイナップルが含まれる\n",
            "バナナが含まれない\n"
          ]
        }
      ]
    },
    {
      "cell_type": "markdown",
      "source": [
        "##繰り返し文(while文)"
      ],
      "metadata": {
        "id": "2fpOWKvfwz2E"
      }
    },
    {
      "cell_type": "code",
      "source": [
        "#while文は条件がtrueの間栗い返す\n",
        "def  count(max):\n",
        "  num = 0\n",
        "  while num < max: #numがmax未満の間、繰り返す\n",
        "    print(num)\n",
        "    num+=1\n",
        "\n",
        "count(5)"
      ],
      "metadata": {
        "colab": {
          "base_uri": "https://localhost:8080/"
        },
        "id": "Yf641NOkv9ri",
        "outputId": "bc5b1cce-6e13-4661-f6d0-3e9c4f03e25d"
      },
      "execution_count": null,
      "outputs": [
        {
          "output_type": "stream",
          "name": "stdout",
          "text": [
            "0\n",
            "1\n",
            "2\n",
            "3\n",
            "4\n"
          ]
        }
      ]
    },
    {
      "cell_type": "markdown",
      "source": [
        "##繰り返し文(for文)\n",
        "変数βの集合から1つずつ取り出して変数αとして使う\n",
        "\n",
        "for　変数α in range(変数β)"
      ],
      "metadata": {
        "id": "A1PPb0opy8A4"
      }
    },
    {
      "cell_type": "code",
      "source": [
        "#集合（コレクション)の中から取り出して繰り返し\n",
        "def every(array):\n",
        "  for x in array:\n",
        "    print(x)\n",
        "\n",
        "list = [1,2,3]\n",
        "every(list)\n",
        "tuple = (4,5,6)\n",
        "every(tuple)"
      ],
      "metadata": {
        "colab": {
          "base_uri": "https://localhost:8080/"
        },
        "id": "1y27drJXx9BN",
        "outputId": "9e285843-c7da-4b0d-a90f-3e620aae2365"
      },
      "execution_count": null,
      "outputs": [
        {
          "output_type": "stream",
          "name": "stdout",
          "text": [
            "1\n",
            "2\n",
            "3\n",
            "4\n",
            "5\n",
            "6\n"
          ]
        }
      ]
    },
    {
      "cell_type": "code",
      "source": [
        "dict = {'a':7,'b':8,'c':9}\n",
        "every(dict)\n",
        "values = dict.values()\n",
        "every(values)\n",
        "every('dog')"
      ],
      "metadata": {
        "colab": {
          "base_uri": "https://localhost:8080/"
        },
        "id": "UCpJz7gL02k0",
        "outputId": "e64552c6-e403-4953-9e81-5996d8104feb"
      },
      "execution_count": null,
      "outputs": [
        {
          "output_type": "stream",
          "name": "stdout",
          "text": [
            "a\n",
            "b\n",
            "c\n",
            "7\n",
            "8\n",
            "9\n",
            "d\n",
            "o\n",
            "g\n"
          ]
        }
      ]
    },
    {
      "cell_type": "code",
      "source": [
        "#カウンター変数で繰り返す\n",
        "#for n in range(数値)0～数値未満繰り返す\n",
        "def count(num):\n",
        "  for i in range(num):\n",
        "    print(i)\n",
        "count(3)\n"
      ],
      "metadata": {
        "colab": {
          "base_uri": "https://localhost:8080/"
        },
        "id": "iABnISmW3WyB",
        "outputId": "a74e7296-a7a7-4eb4-8b15-da4572eb2347"
      },
      "execution_count": null,
      "outputs": [
        {
          "output_type": "stream",
          "name": "stdout",
          "text": [
            "0\n",
            "1\n",
            "2\n"
          ]
        }
      ]
    },
    {
      "cell_type": "code",
      "source": [
        "def stop(array):\n",
        " for i in array:\n",
        "  if i >= 4:\n",
        "    break\n",
        "  print(i)\n",
        "stop(list)"
      ],
      "metadata": {
        "colab": {
          "base_uri": "https://localhost:8080/"
        },
        "id": "WQwaLpeH4_Rs",
        "outputId": "41d4fdc7-b2ff-4b18-f7ba-a54cd5e2f8e6"
      },
      "execution_count": null,
      "outputs": [
        {
          "output_type": "stream",
          "name": "stdout",
          "text": [
            "1\n",
            "2\n",
            "3\n"
          ]
        }
      ]
    },
    {
      "cell_type": "code",
      "source": [
        "def skip(array):\n",
        "  for i in array:\n",
        "    if i >= 4:\n",
        "      continue\n",
        "    print(i)\n",
        "list=[1,2,3,4,5,1,2,3,4,5]\n",
        "skip(list)"
      ],
      "metadata": {
        "colab": {
          "base_uri": "https://localhost:8080/"
        },
        "id": "BR__DRFg5rSW",
        "outputId": "b2af5921-c610-47f0-e242-a1f9624633f9"
      },
      "execution_count": null,
      "outputs": [
        {
          "output_type": "stream",
          "name": "stdout",
          "text": [
            "1\n",
            "2\n",
            "3\n",
            "1\n",
            "2\n",
            "3\n"
          ]
        }
      ]
    },
    {
      "cell_type": "code",
      "source": [],
      "metadata": {
        "id": "F_jzXQ_R8PoX"
      },
      "execution_count": null,
      "outputs": []
    }
  ]
}