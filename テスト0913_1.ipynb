{
  "nbformat": 4,
  "nbformat_minor": 0,
  "metadata": {
    "colab": {
      "provenance": [],
      "authorship_tag": "ABX9TyNvraRPHCAoHvMyG27Q6VQs",
      "include_colab_link": true
    },
    "kernelspec": {
      "name": "python3",
      "display_name": "Python 3"
    },
    "language_info": {
      "name": "python"
    }
  },
  "cells": [
    {
      "cell_type": "markdown",
      "metadata": {
        "id": "view-in-github",
        "colab_type": "text"
      },
      "source": [
        "<a href=\"https://colab.research.google.com/github/YushiIshihara/DeepLearning2022/blob/main/%E3%83%86%E3%82%B9%E3%83%880913_1.ipynb\" target=\"_parent\"><img src=\"https://colab.research.google.com/assets/colab-badge.svg\" alt=\"Open In Colab\"/></a>"
      ]
    },
    {
      "cell_type": "code",
      "source": [
        "#リスト型とタプル型\n",
        "##リストとタプル"
      ],
      "metadata": {
        "id": "r17SrREgUzBp"
      },
      "execution_count": 39,
      "outputs": []
    },
    {
      "cell_type": "code",
      "source": [
        "list = ['アップル','ペン','ペン','パイナップル']\n",
        "print(list)\n",
        "print(list[1]+list[2])"
      ],
      "metadata": {
        "colab": {
          "base_uri": "https://localhost:8080/"
        },
        "id": "ZnUr9649VOk9",
        "outputId": "e5913e87-d8ff-42a0-b8f4-0f75f9735f53"
      },
      "execution_count": 40,
      "outputs": [
        {
          "output_type": "stream",
          "name": "stdout",
          "text": [
            "['アップル', 'ペン', 'ペン', 'パイナップル']\n",
            "ペンペン\n"
          ]
        }
      ]
    },
    {
      "cell_type": "code",
      "source": [
        "taple = ('アップル','ペン','ペン','パイナップル')\n",
        "print(taple)\n",
        "print(taple[2]+taple[3])"
      ],
      "metadata": {
        "colab": {
          "base_uri": "https://localhost:8080/"
        },
        "id": "yYV0mO9NWHDN",
        "outputId": "013d0395-45da-4187-e8fc-e9d87241a676"
      },
      "execution_count": 41,
      "outputs": [
        {
          "output_type": "stream",
          "name": "stdout",
          "text": [
            "('アップル', 'ペン', 'ペン', 'パイナップル')\n",
            "ペンパイナップル\n"
          ]
        }
      ]
    },
    {
      "cell_type": "code",
      "source": [
        "print(list)\n",
        "list.append(100)\n",
        "print(list)\n",
        "del list[2]\n",
        "print(list)\n",
        "list[3] = 'ペン'\n",
        "print(list)\n",
        "list.insert(2,'ペン')\n",
        "print(list)\n"
      ],
      "metadata": {
        "colab": {
          "base_uri": "https://localhost:8080/"
        },
        "id": "dEAxl-8OW4jW",
        "outputId": "8caeb8d2-b8d6-4df8-9f1c-3c36c017fed3"
      },
      "execution_count": 42,
      "outputs": [
        {
          "output_type": "stream",
          "name": "stdout",
          "text": [
            "['アップル', 'ペン', 'ペン', 'パイナップル']\n",
            "['アップル', 'ペン', 'ペン', 'パイナップル', 100]\n",
            "['アップル', 'ペン', 'パイナップル', 100]\n",
            "['アップル', 'ペン', 'パイナップル', 'ペン']\n",
            "['アップル', 'ペン', 'ペン', 'パイナップル', 'ペン']\n"
          ]
        }
      ]
    },
    {
      "cell_type": "code",
      "source": [
        "print(list)\n",
        "print(len(list))\n",
        "print(list[1:3])\n",
        "print(list[1:])"
      ],
      "metadata": {
        "colab": {
          "base_uri": "https://localhost:8080/"
        },
        "id": "Wdck3Ro-Yllw",
        "outputId": "3fc61847-05c4-4a6d-f082-a20d79c971ea"
      },
      "execution_count": 43,
      "outputs": [
        {
          "output_type": "stream",
          "name": "stdout",
          "text": [
            "['アップル', 'ペン', 'ペン', 'パイナップル', 'ペン']\n",
            "5\n",
            "['ペン', 'ペン']\n",
            "['ペン', 'ペン', 'パイナップル', 'ペン']\n"
          ]
        }
      ]
    },
    {
      "cell_type": "code",
      "source": [
        "uniq = set(['アップル','ペン','ペン','パイナップル'])\n",
        "print(uniq)"
      ],
      "metadata": {
        "colab": {
          "base_uri": "https://localhost:8080/"
        },
        "id": "L4vtrbZrcJYr",
        "outputId": "a7c89c5a-988a-4b10-e233-6da806916ce9"
      },
      "execution_count": 44,
      "outputs": [
        {
          "output_type": "stream",
          "name": "stdout",
          "text": [
            "{'アップル', 'ペン', 'パイナップル'}\n"
          ]
        }
      ]
    },
    {
      "cell_type": "code",
      "source": [
        "print(uniq)\n",
        "uniq.add('バナナ')\n",
        "uniq.remove('ペン')\n",
        "print(uniq)"
      ],
      "metadata": {
        "colab": {
          "base_uri": "https://localhost:8080/"
        },
        "id": "Ivuron5wgtaZ",
        "outputId": "8460d4f0-887d-4cc2-f451-2f0fa4b1730e"
      },
      "execution_count": 45,
      "outputs": [
        {
          "output_type": "stream",
          "name": "stdout",
          "text": [
            "{'アップル', 'ペン', 'パイナップル'}\n",
            "{'アップル', 'バナナ', 'パイナップル'}\n"
          ]
        }
      ]
    },
    {
      "cell_type": "code",
      "source": [
        "uniq = set(['アップル','ペン','ペン','パイナップル'])\n",
        "a = set(['アップル','ペン'])\n",
        "b = set(['ペン','パイナップル'])\n",
        "print(uniq)\n",
        "print(a)\n",
        "print(b)\n",
        "print(a.issubset(uniq))"
      ],
      "metadata": {
        "colab": {
          "base_uri": "https://localhost:8080/"
        },
        "id": "rD2NeKJThs-P",
        "outputId": "5b827f15-a2f4-4402-e9a2-b66861bd5b77"
      },
      "execution_count": 46,
      "outputs": [
        {
          "output_type": "stream",
          "name": "stdout",
          "text": [
            "{'アップル', 'ペン', 'パイナップル'}\n",
            "{'アップル', 'ペン'}\n",
            "{'ペン', 'パイナップル'}\n"
          ]
        }
      ]
    },
    {
      "cell_type": "code",
      "source": [
        "print(a)\n",
        "print(b)\n",
        "print(a.intersection(b))\n",
        "print(a.union(b))\n",
        "a.difference(b)"
      ],
      "metadata": {
        "colab": {
          "base_uri": "https://localhost:8080/"
        },
        "id": "wzt6fFF3j7pa",
        "outputId": "efa39046-0f38-45ae-9cb2-5d248015d599"
      },
      "execution_count": 49,
      "outputs": [
        {
          "output_type": "stream",
          "name": "stdout",
          "text": [
            "{'アップル', 'ペン'}\n",
            "{'ペン', 'パイナップル'}\n",
            "{'ペン'}\n",
            "{'アップル', 'ペン', 'パイナップル'}\n"
          ]
        },
        {
          "output_type": "execute_result",
          "data": {
            "text/plain": [
              "{'アップル'}"
            ]
          },
          "metadata": {},
          "execution_count": 49
        }
      ]
    },
    {
      "cell_type": "code",
      "source": [],
      "metadata": {
        "id": "29npg5biqlFu"
      },
      "execution_count": null,
      "outputs": []
    }
  ]
}